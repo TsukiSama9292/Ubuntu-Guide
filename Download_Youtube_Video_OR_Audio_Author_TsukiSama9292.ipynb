{
  "nbformat": 4,
  "nbformat_minor": 0,
  "metadata": {
    "colab": {
      "provenance": []
    },
    "kernelspec": {
      "name": "python3",
      "display_name": "Python 3"
    },
    "language_info": {
      "name": "python"
    }
  },
  "cells": [
    {
      "cell_type": "markdown",
      "source": [
        "# [作者 TsukiSama9292 - Github 連結](https://github.com/tsukisama9292)\n",
        "## [參考文獻 - 連結](https://ianwu.tw/press/topic/command_line_program/yt-dlp.html#%E4%BB%8B%E7%B4%B9)"
      ],
      "metadata": {
        "id": "JTUtXVC9nQvC"
      }
    },
    {
      "cell_type": "markdown",
      "source": [
        "# 依賴安裝 - 沒有 ffmpeg 的話，只能做音檔下載"
      ],
      "metadata": {
        "id": "NtgK61fYabG8"
      }
    },
    {
      "cell_type": "code",
      "execution_count": null,
      "metadata": {
        "id": "3EkPsK06aCP8"
      },
      "outputs": [],
      "source": [
        "!pip -qqq install yt-dlp"
      ]
    },
    {
      "cell_type": "markdown",
      "source": [
        "# 音檔下載，YOUTUBE_URL 換成 清單或影片 的連結 都可以"
      ],
      "metadata": {
        "id": "XjOzNMS7aeUg"
      }
    },
    {
      "cell_type": "code",
      "source": [
        "import zipfile\n",
        "import os\n",
        "\n",
        "# 請改變YOUTUBE_URL為想要的Youtube影片連結或清單連結(不能是分享連結)\n",
        "YOUTUBE_URL = ''\n",
        "\n",
        "# 執行下載，底下的程式碼可以不改\n",
        "!yt-dlp -o 'Download/%(title)s.%(ext)s' --extract-audio --audio-format mp3 {YOUTUBE_URL}\n",
        "folder_to_zip = 'Download'\n",
        "zip_filename = 'Download_MP3.zip'\n",
        "with zipfile.ZipFile(zip_filename, 'w') as zipf:\n",
        "    for root, dirs, files in os.walk(folder_to_zip):\n",
        "        for file in files:\n",
        "            zipf.write(os.path.join(root, file), os.path.relpath(os.path.join(root, file), folder_to_zip))\n",
        "\n",
        "print(f'資料夾 {folder_to_zip} 已成功壓縮為 {zip_filename}')\n",
        "print(f'已經可以下載{zip_filename}到本機端')\n",
        "!rm -rf Download"
      ],
      "metadata": {
        "id": "r3k1QHSYhLAe"
      },
      "execution_count": null,
      "outputs": []
    },
    {
      "cell_type": "markdown",
      "source": [
        "# 影片下載 - 推薦的使用方法"
      ],
      "metadata": {
        "id": "uwwBQ2AfnwFy"
      }
    },
    {
      "cell_type": "code",
      "source": [
        "!sudo apt update\n",
        "!sudo apt install ffmpeg"
      ],
      "metadata": {
        "id": "2FIktrdRqs2t"
      },
      "execution_count": null,
      "outputs": []
    },
    {
      "cell_type": "code",
      "source": [
        "# 請改變YOUTUBE_URL為想要的Youtube影片連結或清單連結(不能是分享連結)\n",
        "YOUTUBE_URL = ''\n",
        "### 確認支援的 mp4 解析度 與 audio only 音質 的 ID\n",
        "!yt-dlp -F {YOUTUBE_URL}"
      ],
      "metadata": {
        "id": "Gh4eIyFwnycV"
      },
      "execution_count": null,
      "outputs": []
    },
    {
      "cell_type": "code",
      "source": [
        "# 執行下載，遇到問題再改ID組合，當前616為mp4，233為m4a，底下的程式碼可以不改\n",
        "!yt-dlp -f '616+233' -o 'Download/%(title)s.%(ext)s' --recode mp4 {YOUTUBE_URL}\n",
        "folder_to_zip = 'Download'\n",
        "zip_filename = 'Download_MP4.zip'\n",
        "with zipfile.ZipFile(zip_filename, 'w') as zipf:\n",
        "    for root, dirs, files in os.walk(folder_to_zip):\n",
        "        for file in files:\n",
        "            zipf.write(os.path.join(root, file), os.path.relpath(os.path.join(root, file), folder_to_zip))\n",
        "\n",
        "print(f'資料夾 {folder_to_zip} 已成功壓縮為 {zip_filename}')\n",
        "print(f'已經可以下載{zip_filename}到本機端')\n",
        "!rm -rf Download"
      ],
      "metadata": {
        "id": "5W0I_Z7cowOu"
      },
      "execution_count": null,
      "outputs": []
    }
  ]
}