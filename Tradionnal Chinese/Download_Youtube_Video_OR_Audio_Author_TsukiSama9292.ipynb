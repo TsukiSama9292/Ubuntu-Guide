{
  "cells": [
    {
      "cell_type": "markdown",
      "metadata": {
        "id": "JTUtXVC9nQvC"
      },
      "source": [
        "# [作者 TsukiSama9292 - Github 連結](https://github.com/tsukisama9292)\n",
        "## [參考文獻 - 連結](https://ianwu.tw/press/topic/command_line_program/yt-dlp.html#%E4%BB%8B%E7%B4%B9)"
      ]
    },
    {
      "cell_type": "markdown",
      "metadata": {
        "id": "NtgK61fYabG8"
      },
      "source": [
        "# 依賴安裝 - 沒有 ffmpeg 的話，只能做音檔下載"
      ]
    },
    {
      "cell_type": "code",
      "execution_count": null,
      "metadata": {
        "id": "3EkPsK06aCP8"
      },
      "outputs": [],
      "source": [
        "!pip -qqq install yt-dlp"
      ]
    },
    {
      "cell_type": "markdown",
      "metadata": {
        "id": "XjOzNMS7aeUg"
      },
      "source": [
        "# 音檔下載，YOUTUBE_URL 換成 清單或影片 的連結 都可以"
      ]
    },
    {
      "cell_type": "code",
      "execution_count": null,
      "metadata": {
        "id": "r3k1QHSYhLAe"
      },
      "outputs": [],
      "source": [
        "import zipfile\n",
        "import os\n",
        "\n",
        "# 請改變YOUTUBE_URL為想要的Youtube影片連結或清單連結(不能是分享連結)\n",
        "YOUTUBE_URL = ''\n",
        "# 執行下載，底下的程式碼可以不改\n",
        "!yt-dlp -o 'Download/%(title)s.%(ext)s' --extract-audio --audio-format mp3 {YOUTUBE_URL}\n",
        "\n",
        "from datetime import datetime\n",
        "now = datetime.now()\n",
        "year = now.year\n",
        "month = now.month\n",
        "day = now.day\n",
        "hour = now.hour\n",
        "minute = now.minute\n",
        "second = now.second\n",
        "\n",
        "folder_to_zip = 'Download'\n",
        "zip_filename = f'Download_MP3_{year}_{month}_{day}_{hour}_{minute}_{second}.zip'\n",
        "with zipfile.ZipFile(zip_filename, 'w') as zipf:\n",
        "    for root, dirs, files in os.walk(folder_to_zip):\n",
        "        for file in files:\n",
        "            zipf.write(os.path.join(root, file), os.path.relpath(os.path.join(root, file), folder_to_zip))\n",
        "\n",
        "print(f'資料夾 {folder_to_zip} 已成功壓縮為 {zip_filename}')\n",
        "print(f'已經可以下載{zip_filename}到本機端')\n",
        "!rm -rf Download"
      ]
    },
    {
      "cell_type": "markdown",
      "metadata": {
        "id": "uwwBQ2AfnwFy"
      },
      "source": [
        "# 影片下載 - 推薦的使用方法"
      ]
    },
    {
      "cell_type": "code",
      "execution_count": null,
      "metadata": {
        "id": "2FIktrdRqs2t"
      },
      "outputs": [],
      "source": [
        "!sudo apt update\n",
        "!sudo apt install ffmpeg"
      ]
    },
    {
      "cell_type": "code",
      "execution_count": null,
      "metadata": {
        "id": "Gh4eIyFwnycV"
      },
      "outputs": [],
      "source": [
        "# 請改變YOUTUBE_URL為想要的Youtube影片連結或清單連結(不能是分享連結)\n",
        "YOUTUBE_URL = ''\n",
        "### 確認支援的 mp4 解析度 與 audio only 音質 的 ID\n",
        "!yt-dlp -F {YOUTUBE_URL}"
      ]
    },
    {
      "cell_type": "code",
      "execution_count": null,
      "metadata": {
        "id": "5W0I_Z7cowOu"
      },
      "outputs": [],
      "source": [
        "# 執行下載，遇到問題再改ID組合，當前616為mp4，233為m4a，底下的程式碼可以不改\n",
        "!yt-dlp -f '616+233' -o 'Download/%(title)s.%(ext)s' --recode mp4 {YOUTUBE_URL}\n",
        "\n",
        "from datetime import datetime\n",
        "now = datetime.now()\n",
        "year = now.year\n",
        "month = now.month\n",
        "day = now.day\n",
        "hour = now.hour\n",
        "minute = now.minute\n",
        "second = now.second\n",
        "\n",
        "folder_to_zip = 'Download'\n",
        "zip_filename = f'Download_MP4_{year}_{month}_{day}_{hour}_{minute}_{second}.zip'\n",
        "with zipfile.ZipFile(zip_filename, 'w') as zipf:\n",
        "    for root, dirs, files in os.walk(folder_to_zip):\n",
        "        for file in files:\n",
        "            zipf.write(os.path.join(root, file), os.path.relpath(os.path.join(root, file), folder_to_zip))\n",
        "\n",
        "print(f'資料夾 {folder_to_zip} 已成功壓縮為 {zip_filename}')\n",
        "print(f'已經可以下載{zip_filename}到本機端')\n",
        "!rm -rf Download"
      ]
    }
  ],
  "metadata": {
    "colab": {
      "provenance": []
    },
    "kernelspec": {
      "display_name": "Python 3",
      "name": "python3"
    },
    "language_info": {
      "name": "python"
    }
  },
  "nbformat": 4,
  "nbformat_minor": 0
}
