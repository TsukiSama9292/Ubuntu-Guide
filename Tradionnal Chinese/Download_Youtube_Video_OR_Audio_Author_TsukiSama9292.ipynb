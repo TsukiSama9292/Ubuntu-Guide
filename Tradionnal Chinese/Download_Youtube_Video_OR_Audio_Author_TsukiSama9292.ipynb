{
  "cells": [
    {
      "cell_type": "markdown",
      "metadata": {
        "id": "JTUtXVC9nQvC"
      },
      "source": [
        "# [作者 TsukiSama9292 - Github 連結](https://github.com/tsukisama9292)\n",
        "## [參考文獻 - 連結](https://ianwu.tw/press/topic/command_line_program/yt-dlp.html#%E4%BB%8B%E7%B4%B9)"
      ]
    },
    {
      "cell_type": "markdown",
      "metadata": {
        "id": "NtgK61fYabG8"
      },
      "source": [
        "# 依賴安裝"
      ]
    },
    {
      "cell_type": "code",
      "execution_count": null,
      "metadata": {
        "id": "3EkPsK06aCP8"
      },
      "outputs": [],
      "source": [
        "!pip install -q yt-dlp\n",
        "!pip install -q -U gradio"
      ]
    },
    {
      "cell_type": "code",
      "execution_count": null,
      "metadata": {},
      "outputs": [],
      "source": [
        "### 有問題的時候，可以考慮安裝\n",
        "# !pip install setuptools "
      ]
    },
    {
      "cell_type": "markdown",
      "metadata": {},
      "source": [
        "# 使用GUI作為下載工具，預設都是最高畫質和音質"
      ]
    },
    {
      "cell_type": "code",
      "execution_count": null,
      "metadata": {},
      "outputs": [],
      "source": [
        "import gradio as gr\n",
        "import subprocess\n",
        "import zipfile\n",
        "import os\n",
        "from datetime import datetime\n",
        "\n",
        "now = datetime.now()\n",
        "year = now.year\n",
        "month = now.month\n",
        "day = now.day\n",
        "hour = now.hour\n",
        "minute = now.minute\n",
        "second = now.second\n",
        "\n",
        "def download_video(YOUTUBE_URL, do_zip):\n",
        "    if(do_zip):\n",
        "        process = subprocess.Popen(\n",
        "            ['yt-dlp', '-o', 'Download_TMP/%(title)s.%(ext)s', YOUTUBE_URL],\n",
        "            stdout=subprocess.PIPE, \n",
        "            stderr=subprocess.PIPE, \n",
        "            text=True\n",
        "        )\n",
        "    else:\n",
        "        process = subprocess.Popen(\n",
        "            ['yt-dlp', '-o', 'Download/%(title)s.%(ext)s', YOUTUBE_URL],\n",
        "            stdout=subprocess.PIPE, \n",
        "            stderr=subprocess.PIPE,  \n",
        "            text=True \n",
        "        )\n",
        "    for line in process.stdout:\n",
        "        yield line\n",
        "    for line in process.stderr:\n",
        "        yield line\n",
        "    process.wait()\n",
        "\n",
        "    if (do_zip):\n",
        "        zip_files('video')\n",
        "    \n",
        "    yield \"影片下載完成\"\n",
        "\n",
        "def download_audio(YOUTUBE_URL, do_zip):\n",
        "    if(do_zip):\n",
        "        process = subprocess.Popen(\n",
        "            ['yt-dlp', '-o', 'Download_TMP/%(title)s.%(ext)s', '--extract-audio', '--audio-format', 'mp3', YOUTUBE_URL],\n",
        "            stdout=subprocess.PIPE,\n",
        "            stderr=subprocess.PIPE,\n",
        "            text=True\n",
        "        )\n",
        "    else:\n",
        "        process = subprocess.Popen(\n",
        "            ['yt-dlp', '-o', 'Download/%(title)s.%(ext)s', '--extract-audio', '--audio-format', 'mp3', YOUTUBE_URL],\n",
        "            stdout=subprocess.PIPE,\n",
        "            stderr=subprocess.PIPE,\n",
        "            text=True\n",
        "        )\n",
        "    for line in process.stdout:\n",
        "        yield line\n",
        "\n",
        "    for line in process.stderr:\n",
        "        yield line\n",
        "\n",
        "    process.wait()\n",
        "\n",
        "    if (do_zip):\n",
        "        zip_files('audio')\n",
        "\n",
        "    yield \"音檔下載完成\"\n",
        "\n",
        "def zip_files(Type):\n",
        "    zip_folder = 'Download_ZIP'\n",
        "    if not os.path.exists(zip_folder):\n",
        "        os.makedirs(zip_folder)\n",
        "    folder_to_zip = 'Download_TMP'\n",
        "    zip_filename = f'{zip_folder}/{Type}_{year}_{month}_{day}_{hour}_{minute}_{second}.zip'\n",
        "    with zipfile.ZipFile(zip_filename, 'w') as zipf:\n",
        "        for root, dirs, files in os.walk(folder_to_zip):\n",
        "            for file in files:\n",
        "                zipf.write(os.path.join(root, file), os.path.relpath(os.path.join(root, file), folder_to_zip))\n",
        "    !rm -rf Download_TMP\n",
        "\n",
        "def gradio_interface(function_choice, YOUTUBE_URL, do_zip):\n",
        "    if function_choice == \"下載影片\":\n",
        "        yield from download_video(YOUTUBE_URL, do_zip)\n",
        "    elif function_choice == \"下載音檔\":\n",
        "        yield from download_audio(YOUTUBE_URL, do_zip)\n",
        "\n",
        "iface = gr.Interface(\n",
        "    fn=gradio_interface,\n",
        "    inputs=[\n",
        "        gr.Radio([\"下載影片\", \"下載音檔\"], label=\"選擇功能\"),\n",
        "        gr.Textbox(label=\"輸入 YouTube 清單或影片的連結\"),\n",
        "        gr.Checkbox(label=\"壓縮成 ZIP 檔\")\n",
        "    ],\n",
        "    outputs=\"text\",\n",
        ")\n",
        "iface.queue().launch(share=True)\n",
        "# 4K 60fps 影片連結(測試用) : https://youtu.be/3aRJtJRa434\n",
        "# 播放清單 和 影片 不可以放分享連結(share結尾)，要放一般的網址，如 : https://www.youtube.com/playlist?list=PLm2oaJc6zPi1ZJyHaGid4P3sCke4b0qfL"
      ]
    }
  ],
  "metadata": {
    "colab": {
      "provenance": []
    },
    "kernelspec": {
      "display_name": "Python 3",
      "name": "python3"
    },
    "language_info": {
      "codemirror_mode": {
        "name": "ipython",
        "version": 3
      },
      "file_extension": ".py",
      "mimetype": "text/x-python",
      "name": "python",
      "nbconvert_exporter": "python",
      "pygments_lexer": "ipython3",
      "version": "3.12.3"
    }
  },
  "nbformat": 4,
  "nbformat_minor": 0
}
