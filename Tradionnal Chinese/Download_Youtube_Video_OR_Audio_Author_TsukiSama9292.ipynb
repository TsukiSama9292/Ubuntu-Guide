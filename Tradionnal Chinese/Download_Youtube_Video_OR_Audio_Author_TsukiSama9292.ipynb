{
  "cells": [
    {
      "cell_type": "markdown",
      "metadata": {
        "id": "JTUtXVC9nQvC"
      },
      "source": [
        "# [作者 TsukiSama9292 - Github 連結](https://github.com/tsukisama9292)\n",
        "## [參考文獻 - 連結](https://ianwu.tw/press/topic/command_line_program/yt-dlp.html#%E4%BB%8B%E7%B4%B9)"
      ]
    },
    {
      "cell_type": "markdown",
      "metadata": {
        "id": "NtgK61fYabG8"
      },
      "source": [
        "# 依賴安裝"
      ]
    },
    {
      "cell_type": "code",
      "execution_count": null,
      "metadata": {
        "id": "3EkPsK06aCP8"
      },
      "outputs": [],
      "source": [
        "!pip install -q yt-dlp\n",
        "!pip install -q -U gradio"
      ]
    },
    {
      "cell_type": "code",
      "execution_count": 1,
      "metadata": {},
      "outputs": [
        {
          "name": "stderr",
          "output_type": "stream",
          "text": [
            "/home/tsukisama9292/公共/Ubuntu-Useful-Guide/.venv/lib/python3.12/site-packages/tqdm/auto.py:21: TqdmWarning: IProgress not found. Please update jupyter and ipywidgets. See https://ipywidgets.readthedocs.io/en/stable/user_install.html\n",
            "  from .autonotebook import tqdm as notebook_tqdm\n"
          ]
        },
        {
          "name": "stdout",
          "output_type": "stream",
          "text": [
            "Running on local URL:  http://127.0.0.1:7860\n",
            "Running on public URL: https://a251e7a93767f255e8.gradio.live\n",
            "\n",
            "This share link expires in 72 hours. For free permanent hosting and GPU upgrades, run `gradio deploy` from Terminal to deploy to Spaces (https://huggingface.co/spaces)\n"
          ]
        },
        {
          "data": {
            "text/html": [
              "<div><iframe src=\"https://a251e7a93767f255e8.gradio.live\" width=\"100%\" height=\"500\" allow=\"autoplay; camera; microphone; clipboard-read; clipboard-write;\" frameborder=\"0\" allowfullscreen></iframe></div>"
            ],
            "text/plain": [
              "<IPython.core.display.HTML object>"
            ]
          },
          "metadata": {},
          "output_type": "display_data"
        },
        {
          "data": {
            "text/plain": []
          },
          "execution_count": 1,
          "metadata": {},
          "output_type": "execute_result"
        }
      ],
      "source": [
        "import yt_dlp\n",
        "import threading\n",
        "import queue\n",
        "import os\n",
        "import zipfile\n",
        "import shutil\n",
        "from datetime import datetime\n",
        "import gradio as gr\n",
        "\n",
        "\n",
        "# 定義進度回調函數\n",
        "def progress_hook(q):\n",
        "    def hook(d):\n",
        "        if d['status'] == 'downloading':\n",
        "            speed = d.get('speed', 0)\n",
        "            speed_mb = speed / 1024 / 1024 if speed is not None else 0  # 將速度轉換為千字節每秒 (KB/s)，如果為 None，則設為 0\n",
        "            q.put({\n",
        "                '狀態': '下載中影片中',\n",
        "                '已下載大小(MB)': d['downloaded_bytes']/1024/1024,\n",
        "                '當前影片總容量(MB)': d.get('total_bytes', 0)/1024/1024,\n",
        "                '網路速度(MB/秒)': speed_mb,\n",
        "                '預設剩餘時間(秒)': d.get('eta', 0),\n",
        "            })\n",
        "        elif d['status'] == 'finished':\n",
        "            q.put({\n",
        "                '狀態': '已完成',\n",
        "                '檔名': d['filename']\n",
        "            })\n",
        "    return hook\n",
        "\n",
        "# 定義下載函數\n",
        "def download_Run(ydl_opts, url, q):\n",
        "    ydl_opts['progress_hooks'] = [progress_hook(q)]\n",
        "    \n",
        "    with yt_dlp.YoutubeDL(ydl_opts) as ydl:\n",
        "        ydl.download([url])\n",
        "\n",
        "def download_Thread(ydl_opts,url):\n",
        "    # 創建一個 Queue 來傳遞進度消息\n",
        "    q = queue.Queue()\n",
        "\n",
        "    # 在獨立的執行緒中執行下載函數\n",
        "    thread = threading.Thread(target=download_Run, args=(ydl_opts, url, q))\n",
        "    thread.start()\n",
        "\n",
        "    # 即時顯示下載進度\n",
        "    while thread.is_alive() or not q.empty():\n",
        "        try:\n",
        "            progress = q.get(timeout=1)\n",
        "            yield progress\n",
        "        except queue.Empty:\n",
        "            pass\n",
        "\n",
        "def download_video(YOUTUBE_URL, do_zip):\n",
        "    if(do_zip):\n",
        "        ydl_opts = {\n",
        "        'format': 'bestvideo+bestaudio/best',  # 下載最佳畫質\n",
        "        'outtmpl': 'Downloads_TMP/%(title)s.%(ext)s',  # 影片文件名格式\n",
        "        }\n",
        "        yield from download_Thread(ydl_opts,YOUTUBE_URL)\n",
        "        if has_files('Downloads_TMP'):\n",
        "            zip_files('Video')\n",
        "            yield \"影片下載完成\"\n",
        "        else:\n",
        "            yield \"輸入的URL錯誤，無法獲取影片\"\n",
        "    else:\n",
        "        ydl_opts = {\n",
        "        'format': 'bestvideo+bestaudio/best',  # 下載最佳畫質\n",
        "        'outtmpl': 'Downloads/Video/%(title)s.%(ext)s',  # 影片文件名格式\n",
        "        }\n",
        "        yield from download_Thread(ydl_opts,YOUTUBE_URL)\n",
        "        if has_files('Downloads/Video'):\n",
        "            yield \"影片下載完成\"\n",
        "        else:\n",
        "            yield \"輸入的URL錯誤，無法獲取影片\"\n",
        "        \n",
        "    \n",
        "\n",
        "def download_audio(YOUTUBE_URL, do_zip):\n",
        "    if(do_zip):\n",
        "        ydl_opts = {\n",
        "        'format': 'bestvideo+bestaudio/best',  # 下載最佳畫質\n",
        "        'outtmpl': 'Downloads_TMP/%(title)s.%(ext)s',  # 影片文件名格式\n",
        "        }\n",
        "        yield from download_Thread(ydl_opts,YOUTUBE_URL)\n",
        "        if has_files('Downloads_TMP'):\n",
        "            zip_files('Audio')\n",
        "            yield \"音檔下載完成\"\n",
        "        else:\n",
        "            yield \"輸入的URL錯誤，無法獲取影片\"\n",
        "    else:\n",
        "        # 音檔下載\n",
        "        ydl_opts = {\n",
        "            'format': 'bestvideo+bestaudio/best',  # 下載最佳畫質和音質，並合併\n",
        "            'outtmpl': 'Downloads/Audio/%(title)s.%(ext)s',  # 影片文件名格式，下載到 downloads 資料夾\n",
        "            'postprocessors': [{  # 下載後處理選項\n",
        "                'key': 'FFmpegExtractAudio',\n",
        "                'preferredcodec': 'mp3',\n",
        "                'preferredquality': '192',\n",
        "            }],\n",
        "        }\n",
        "        yield from download_Thread(ydl_opts,YOUTUBE_URL)\n",
        "        if has_files('Downloads/Audio'):\n",
        "            yield \"音檔下載完成\"\n",
        "        else:\n",
        "            yield \"輸入的URL錯誤，無法獲取音檔\"\n",
        "            \n",
        "    \n",
        "def has_files(folder_path):\n",
        "    for _, _, files in os.walk(folder_path):\n",
        "        if files:\n",
        "            return True\n",
        "    return False\n",
        "\n",
        "def zip_files(Type):\n",
        "    now = datetime.now()\n",
        "    year = now.year\n",
        "    month = now.month\n",
        "    day = now.day\n",
        "    hour = now.hour\n",
        "    minute = now.minute\n",
        "    second = now.second\n",
        "    folder_to_zip = 'Downloads_TMP'\n",
        "    \n",
        "    if has_files(folder_to_zip):\n",
        "        zip_folder = 'Downloads_ZIP'\n",
        "        if not os.path.exists(zip_folder):\n",
        "            os.makedirs(zip_folder)\n",
        "        \n",
        "        zip_filename = f'{zip_folder}/{Type}_{year}_{month}_{day}_{hour}_{minute}_{second}.zip'\n",
        "        with zipfile.ZipFile(zip_filename, 'w') as zipf:\n",
        "            for root, dirs, files in os.walk(folder_to_zip):\n",
        "                for file in files:\n",
        "                    zipf.write(os.path.join(root, file), os.path.relpath(os.path.join(root, file), folder_to_zip))\n",
        "        # 檢查資料夾是否存在\n",
        "        if os.path.exists(folder_to_zip):\n",
        "            shutil.rmtree(folder_to_zip)\n",
        "    else:\n",
        "        print(f\"資料夾 {folder_to_zip} 中不包含檔案\")\n",
        "\n",
        "def gradio_interface(function_choice, YOUTUBE_URL, do_zip):\n",
        "    if function_choice == \"下載影片\":\n",
        "        yield from download_video(YOUTUBE_URL, do_zip)\n",
        "    elif function_choice == \"下載音檔\":\n",
        "        yield from download_audio(YOUTUBE_URL, do_zip)\n",
        "\n",
        "iface = gr.Interface(\n",
        "    fn=gradio_interface,\n",
        "    inputs=[\n",
        "        gr.Radio([\"下載影片\", \"下載音檔\"], label=\"選擇功能\"),\n",
        "        gr.Textbox(label=\"輸入 YouTube 清單或影片的連結\"),\n",
        "        gr.Checkbox(label=\"壓縮成 ZIP 檔\")\n",
        "    ],\n",
        "    outputs=\"text\",\n",
        ")\n",
        "iface.queue().launch(share=True)\n",
        "# 4K 60fps 影片連結(測試用) : https://youtu.be/3aRJtJRa434\n",
        "# 播放清單 和 影片 不可以放分享連結(share結尾)，要放一般的網址，如 : https://www.youtube.com/playlist?list=PLm2oaJc6zPi1ZJyHaGid4P3sCke4b0qfL"
      ]
    }
  ],
  "metadata": {
    "colab": {
      "provenance": []
    },
    "kernelspec": {
      "display_name": "Python 3",
      "name": "python3"
    },
    "language_info": {
      "codemirror_mode": {
        "name": "ipython",
        "version": 3
      },
      "file_extension": ".py",
      "mimetype": "text/x-python",
      "name": "python",
      "nbconvert_exporter": "python",
      "pygments_lexer": "ipython3",
      "version": "3.12.3"
    }
  },
  "nbformat": 4,
  "nbformat_minor": 0
}
